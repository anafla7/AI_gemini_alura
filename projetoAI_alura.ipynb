{
  "nbformat": 4,
  "nbformat_minor": 0,
  "metadata": {
    "colab": {
      "provenance": [],
      "authorship_tag": "ABX9TyOfPFVdnN30GIvsDWLvA/7v",
      "include_colab_link": true
    },
    "kernelspec": {
      "name": "python3",
      "display_name": "Python 3"
    },
    "language_info": {
      "name": "python"
    }
  },
  "cells": [
    {
      "cell_type": "markdown",
      "metadata": {
        "id": "view-in-github",
        "colab_type": "text"
      },
      "source": [
        "<a href=\"https://colab.research.google.com/github/anafla7/AI_gemini_alura/blob/main/projetoAI_alura.ipynb\" target=\"_parent\"><img src=\"https://colab.research.google.com/assets/colab-badge.svg\" alt=\"Open In Colab\"/></a>"
      ]
    },
    {
      "cell_type": "markdown",
      "source": [
        "# Instalação e conexão com API Gemini"
      ],
      "metadata": {
        "id": "cg1O1W-2HkUC"
      }
    },
    {
      "cell_type": "code",
      "execution_count": 3,
      "metadata": {
        "id": "0Uf7NF22CCxP"
      },
      "outputs": [],
      "source": [
        "!pip install -q -U google-generativeai"
      ]
    },
    {
      "cell_type": "code",
      "source": [
        "import google.generativeai as genai\n",
        "from google.colab import userdata\n",
        "\n",
        "chave_gemini = userdata.get(chave_gemini)\n",
        "\n",
        "genai.configure(api_key=chave_gemini)\n",
        "model = genai.GenerativeModel('gemini-pro')"
      ],
      "metadata": {
        "id": "4YwOSb21Hyxs"
      },
      "execution_count": 4,
      "outputs": []
    },
    {
      "cell_type": "code",
      "source": [
        "#parametros\n",
        "config_generation = {'temperature': 0.2}\n",
        "\n",
        "seguranca = {\n",
        "    'HARASSMENT': 'BLOCK_LOW_AND_ABOVE',\n",
        "    'HATE':'BLOCK_LOW_AND_ABOVE',\n",
        "    'SEXUAL':'BLOCK_LOW_AND_ABOVE',\n",
        "    'DANGEROUS':'BLOCK_LOW_AND_ABOVE'\n",
        "}\n",
        "\n",
        "#inicializar o modelo\n",
        "model = genai.GenerativeModel(model_name='gemini-1.0-pro', generation_config=config_generation, safety_settings=seguranca)"
      ],
      "metadata": {
        "id": "Fgjl2bZ_ILDj"
      },
      "execution_count": 68,
      "outputs": []
    },
    {
      "cell_type": "markdown",
      "source": [
        "# Projeto"
      ],
      "metadata": {
        "id": "7pS7tYOCJiZu"
      }
    },
    {
      "cell_type": "markdown",
      "source": [
        "### instalacao e importação das bibliotecas"
      ],
      "metadata": {
        "id": "ku9JuwtDld8c"
      }
    },
    {
      "cell_type": "code",
      "source": [
        "import requests"
      ],
      "metadata": {
        "id": "tk9s0sxxKchV"
      },
      "execution_count": 2,
      "outputs": []
    },
    {
      "cell_type": "code",
      "source": [
        "#instalar a soupa pata testar\n",
        "!pip install beautifulsoup4 -q"
      ],
      "metadata": {
        "id": "GCCdZ4pGZENc"
      },
      "execution_count": 26,
      "outputs": []
    },
    {
      "cell_type": "code",
      "source": [
        "from bs4 import BeautifulSoup"
      ],
      "metadata": {
        "id": "Y4FCdT96lZ3O"
      },
      "execution_count": null,
      "outputs": []
    },
    {
      "cell_type": "code",
      "source": [
        " # Verifica se a solicitação foi bem-sucedida\n",
        "def verificar_link(link):\n",
        "  site = requests.get(link)\n",
        "\n",
        "  if site.status_code == 200:\n",
        "    # Obtém o código HTML da resposta\n",
        "    html = site.text\n",
        "  else:\n",
        "    print(\"Link não reconhecido\")\n",
        "    html = True\n",
        "\n",
        "  return html"
      ],
      "metadata": {
        "id": "nBsLuhV0EnnG"
      },
      "execution_count": 124,
      "outputs": []
    },
    {
      "cell_type": "markdown",
      "source": [
        "## Resumo de um link"
      ],
      "metadata": {
        "id": "sPbPGekIB5-Y"
      }
    },
    {
      "cell_type": "code",
      "source": [
        "#peça o link ao usuário\n",
        "link = input('Coloque um link para resumir: ')\n",
        "valido = verificar_link(link)\n",
        "\n",
        "while valido == True:\n",
        "    tentar = input('Deseja tentar outro link? Digite SIM: ')\n",
        "    if tentar[0].upper() == 'S':\n",
        "      link = input('Coloque um link para resumir: ')\n",
        "      valido = verificar_link(link)\n",
        "    else:\n",
        "      print('Obrigada!')\n",
        "\n",
        "\n",
        "if valido != True:\n",
        "#retirar informações fo html\n",
        "  sopa = BeautifulSoup(valido, 'html.parser')\n",
        "\n",
        "#achar o titulo\n",
        "  titulo = sopa.title.string\n",
        "  print('Titulo da Página:')\n",
        "  print(titulo)\n",
        "  print()\n",
        "\n",
        "#lista com os paragrafos\n",
        "  p_tags = sopa.find_all('p')\n",
        "\n",
        "#usar IA para resumir os textos\n",
        "  prompt_1 = f'Resuma essa lista de textos {titulo} {p_tags}'\n",
        "  detalhe = model.generate_content(prompt_1)\n",
        "\n",
        "  prompt_2 = f'Explique do que se trata {detalhe.text} em 200 caracteres'\n",
        "  resumo = model.generate_content(prompt_2)\n",
        "\n",
        "  print('Este link é sobre:')\n",
        "  print(resumo.text)\n",
        "\n",
        "  print('-'*40)\n",
        "\n",
        "  mais = input('Quer mais detalhes? ')\n",
        "  if mais[0].upper() == 'S':\n",
        "    print(detalhe.text)"
      ],
      "metadata": {
        "colab": {
          "base_uri": "https://localhost:8080/",
          "height": 367
        },
        "id": "ST4P7KN2CB90",
        "outputId": "d1a448ab-993c-4da4-cc21-e3a3ae9c1206"
      },
      "execution_count": 128,
      "outputs": [
        {
          "output_type": "stream",
          "name": "stdout",
          "text": [
            "Coloque um link para resumir: https://www.scielo.br/j/pci/a/bfprW4R7gL9JL7swCZ7hWxs/\n",
            "Titulo da Página:\n",
            "SciELO -  Brasil - Fanfiction: uma escrita criativa na web Fanfiction: uma escrita criativa na web \n",
            "\n",
            "Este link é sobre:\n",
            "O artigo explora a fanfiction como prática de escrita criativa online, destacando seu papel em incentivar a leitura e a produção de textos ficcionais. Ele analisa o site \"Nyah! Fanfiction\" e pesquisa o comportamento dos fanfiqueiros, concluindo que a fanfiction é mais do que um passatempo, pois incentiva a leitura, a escrita e o desenvolvimento intelectual.\n",
            "----------------------------------------\n",
            "Quer mais detalhes? s\n",
            "**Resumo**\n",
            "\n",
            "Este artigo explora a fanfiction como uma prática de escrita criativa na web, destacando seu papel em incentivar a leitura e a produção de textos ficcionais. Por meio de uma pesquisa exploratória, bibliográfica e qualitativa, o estudo analisa o site \"Nyah! Fanfiction\" e aplica um questionário para entender o comportamento dos fanfiqueiros.\n",
            "\n",
            "O artigo define fanfiction, descreve o processo diferenciado de leitura do texto original pelos ficwriters e apresenta o site \"Nyah! Fanfiction\" como um repositório de fanfictions e um espaço para explorar a imaginação, estimular a criação de textos e intensificar a prática de leitura e escrita entre os jovens.\n",
            "\n",
            "O estudo também examina os aspectos positivos e negativos da fanfiction, como o estímulo à leitura, a melhoria do vocabulário e a dependência da prática. Os resultados do questionário revelam que a maioria dos fanfiqueiros são mulheres jovens que dedicam horas semanais à leitura e escrita de fanfictions.\n",
            "\n",
            "O artigo conclui que a fanfiction é mais do que um passatempo, pois incentiva a leitura, a escrita e o desenvolvimento intelectual. O site \"Nyah! Fanfiction\" oferece um ambiente para o crescimento intelectual, promovendo concursos e aulas de português, e conta com revisores de texto (beta readers) para melhorar a qualidade das histórias.\n",
            "\n",
            "O estudo contribui para a investigação do tema na área de Biblioteconomia, trazendo questões pouco observadas sobre fanfictions e sua relação com a leitura e a produção de textos de ficção.\n"
          ]
        }
      ]
    },
    {
      "cell_type": "markdown",
      "source": [
        "#Construção do projeto - testes"
      ],
      "metadata": {
        "id": "yvR2985clGVQ"
      }
    },
    {
      "cell_type": "markdown",
      "source": [
        "## Auxilio do Gemini para construção do código"
      ],
      "metadata": {
        "id": "aMTng4TqHT--"
      }
    },
    {
      "cell_type": "code",
      "source": [
        "response = model.generate_content(\"Como ler o código html de um link em python\")\n",
        "print(response.text)"
      ],
      "metadata": {
        "colab": {
          "base_uri": "https://localhost:8080/",
          "height": 364
        },
        "collapsed": true,
        "id": "tGU-BZTzH4XS",
        "outputId": "0693d847-ab7a-45db-b747-9e8589096447"
      },
      "execution_count": 11,
      "outputs": [
        {
          "output_type": "stream",
          "name": "stdout",
          "text": [
            "```python\n",
            "import requests\n",
            "\n",
            "# URL do link\n",
            "url = \"https://www.example.com\"\n",
            "\n",
            "# Envia uma solicitação GET para obter o código HTML da página\n",
            "response = requests.get(url)\n",
            "\n",
            "# Verifica se a solicitação foi bem-sucedida\n",
            "if response.status_code == 200:\n",
            "    # Obtém o código HTML da resposta\n",
            "    html = response.text\n",
            "    \n",
            "    # Imprime o código HTML\n",
            "    print(html)\n",
            "else:\n",
            "    # A solicitação não foi bem-sucedida\n",
            "    print(\"Erro ao obter o código HTML.\")\n",
            "```\n"
          ]
        }
      ]
    },
    {
      "cell_type": "code",
      "source": [
        "response = model.generate_content(\"Onde localizar os texto em um código de html\")\n",
        "print(response.text)"
      ],
      "metadata": {
        "colab": {
          "base_uri": "https://localhost:8080/",
          "height": 523
        },
        "collapsed": true,
        "id": "LHjto1nWI-6Q",
        "outputId": "9c4f8d7a-f377-4214-d717-351d9ecc2c6f"
      },
      "execution_count": 23,
      "outputs": [
        {
          "output_type": "stream",
          "name": "stdout",
          "text": [
            "**Usando o navegador:**\n",
            "\n",
            "* **Inspecionar elemento:** Clique com o botão direito do mouse em um elemento da página e selecione \"Inspecionar elemento\". Isso abrirá o painel de ferramentas do desenvolvedor, que mostrará o código HTML do elemento.\n",
            "* **Visualizar fonte da página:** Pressione **Ctrl + U** (Windows) ou **Command + U** (Mac) para abrir a fonte da página em uma nova guia.\n",
            "\n",
            "**Usando um editor de código:**\n",
            "\n",
            "* **Abrir o arquivo HTML:** Abra o arquivo HTML que deseja editar em um editor de código como o Visual Studio Code, Sublime Text ou Atom.\n",
            "* **Pesquisar texto:** Use a função de pesquisa do editor para localizar o texto específico que você está procurando.\n",
            "\n",
            "**Usando ferramentas de linha de comando:**\n",
            "\n",
            "* **grep:** Use o comando `grep` para pesquisar texto em arquivos de texto, incluindo arquivos HTML. Por exemplo:\n",
            "\n",
            "```\n",
            "grep \"texto_procurado\" arquivo.html\n",
            "```\n",
            "\n",
            "* **sed:** Use o comando `sed` para pesquisar e substituir texto em arquivos de texto. Por exemplo:\n",
            "\n",
            "```\n",
            "sed 's/texto_procurado/texto_substituto/g' arquivo.html\n",
            "```\n",
            "\n",
            "**Usando bibliotecas de análise HTML:**\n",
            "\n",
            "* **Beautiful Soup (Python):** Use a biblioteca Beautiful Soup para analisar e manipular documentos HTML.\n",
            "* **HtmlAgilityPack (C#):** Use a biblioteca HtmlAgilityPack para analisar e manipular documentos HTML.\n"
          ]
        }
      ]
    },
    {
      "cell_type": "code",
      "source": [
        "response = model.generate_content(\"dê uma breve explicação da bibliotece Beautiful Soup (Python) com exemplo de seu funcionamento\")\n",
        "print(response.text)"
      ],
      "metadata": {
        "colab": {
          "base_uri": "https://localhost:8080/",
          "height": 1000
        },
        "collapsed": true,
        "id": "PRVbyUefXOq1",
        "outputId": "caa528db-98d9-483d-fcfb-098fc586b2c9"
      },
      "execution_count": 24,
      "outputs": [
        {
          "output_type": "stream",
          "name": "stdout",
          "text": [
            "**Beautiful Soup (Python)**\n",
            "\n",
            "Beautiful Soup é uma biblioteca Python para analisar e extrair dados de documentos HTML e XML. Ela fornece uma interface simples e intuitiva para navegar, pesquisar e modificar a estrutura do documento.\n",
            "\n",
            "**Funcionamento:**\n",
            "\n",
            "Beautiful Soup cria um objeto \"soup\" a partir do documento HTML ou XML. Este objeto representa a estrutura do documento como uma árvore de elementos. Cada elemento é um objeto que contém informações sobre seu nome, atributos e conteúdo.\n",
            "\n",
            "Para navegar na árvore, você pode usar os métodos `find()` e `find_all()`. Esses métodos permitem que você pesquise elementos com base em seu nome, atributos ou conteúdo.\n",
            "\n",
            "Por exemplo, para encontrar todos os elementos `<h1>` em um documento HTML, você pode usar:\n",
            "\n",
            "```python\n",
            "from bs4 import BeautifulSoup\n",
            "\n",
            "soup = BeautifulSoup(html_doc, 'html.parser')\n",
            "h1_tags = soup.find_all('h1')\n",
            "```\n",
            "\n",
            "Você também pode modificar a estrutura do documento usando os métodos `insert()`, `append()` e `remove()`.\n",
            "\n",
            "Por exemplo, para adicionar um novo elemento `<h1>` ao documento, você pode usar:\n",
            "\n",
            "```python\n",
            "new_h1 = soup.new_tag('h1')\n",
            "new_h1.string = 'Novo Título'\n",
            "soup.body.insert(0, new_h1)\n",
            "```\n",
            "\n",
            "**Exemplo:**\n",
            "\n",
            "Suponha que você tenha o seguinte documento HTML:\n",
            "\n",
            "```html\n",
            "<html>\n",
            "<head>\n",
            "  <title>Título da Página</title>\n",
            "</head>\n",
            "<body>\n",
            "  <h1>Título 1</h1>\n",
            "  <p>Parágrafo 1</p>\n",
            "  <ul>\n",
            "    <li>Item 1</li>\n",
            "    <li>Item 2</li>\n",
            "  </ul>\n",
            "</body>\n",
            "</html>\n",
            "```\n",
            "\n",
            "Para extrair o título da página e o primeiro item da lista, você pode usar:\n",
            "\n",
            "```python\n",
            "from bs4 import BeautifulSoup\n",
            "\n",
            "soup = BeautifulSoup(html_doc, 'html.parser')\n",
            "page_title = soup.title.string\n",
            "first_list_item = soup.find('li').string\n",
            "\n",
            "print(page_title)  # Título da Página\n",
            "print(first_list_item)  # Item 1\n",
            "```\n"
          ]
        }
      ]
    },
    {
      "cell_type": "code",
      "source": [
        "perfil = '''Crie o código HTML, CSS e JavaScript para uma pagina de perfil de uma analisata de dados no github.\n",
        "Acrestar uma parte para exibir o portifio de uma interração com inteligencia artificial que é interativa.\n",
        "Crie os códigos em arquivos separados.'''\n",
        "\n",
        "response = model.generate_content(perfil)\n",
        "print(response.text)"
      ],
      "metadata": {
        "colab": {
          "base_uri": "https://localhost:8080/",
          "height": 1000
        },
        "collapsed": true,
        "id": "4n_fxHpHpyW4",
        "outputId": "6aa12a7f-6716-4a39-e429-454276e80def"
      },
      "execution_count": 99,
      "outputs": [
        {
          "output_type": "stream",
          "name": "stdout",
          "text": [
            "**index.html**\n",
            "\n",
            "```html\n",
            "<!DOCTYPE html>\n",
            "<html lang=\"en\">\n",
            "<head>\n",
            "  <meta charset=\"UTF-8\">\n",
            "  <meta name=\"viewport\" content=\"width=device-width, initial-scale=1.0\">\n",
            "  <title>Perfil de Analista de Dados</title>\n",
            "  <link rel=\"stylesheet\" href=\"style.css\">\n",
            "</head>\n",
            "<body>\n",
            "  <header>\n",
            "    <h1>Perfil de Analista de Dados</h1>\n",
            "  </header>\n",
            "  <main>\n",
            "    <section id=\"about\">\n",
            "      <h2>Sobre</h2>\n",
            "      <p>Sou uma analista de dados experiente com mais de 5 anos de experiência em análise de dados, modelagem preditiva e visualização de dados. Sou apaixonada por usar dados para resolver problemas e tomar decisões informadas.</p>\n",
            "    </section>\n",
            "    <section id=\"skills\">\n",
            "      <h2>Habilidades</h2>\n",
            "      <ul>\n",
            "        <li>Análise de Dados</li>\n",
            "        <li>Modelagem Preditiva</li>\n",
            "        <li>Visualização de Dados</li>\n",
            "        <li>Python</li>\n",
            "        <li>R</li>\n",
            "        <li>SQL</li>\n",
            "      </ul>\n",
            "    </section>\n",
            "    <section id=\"portfolio\">\n",
            "      <h2>Portfólio</h2>\n",
            "      <div id=\"ai-interaction\">\n",
            "        <h3>Interação com Inteligência Artificial</h3>\n",
            "        <p>Esta seção exibe uma interação interativa com inteligência artificial. Clique no botão abaixo para iniciar.</p>\n",
            "        <button id=\"ai-interaction-button\">Iniciar Interação</button>\n",
            "      </div>\n",
            "    </section>\n",
            "  </main>\n",
            "  <footer>\n",
            "    <p>Copyright &copy; 2023</p>\n",
            "  </footer>\n",
            "  <script src=\"script.js\"></script>\n",
            "</body>\n",
            "</html>\n",
            "```\n",
            "\n",
            "**style.css**\n",
            "\n",
            "```css\n",
            "body {\n",
            "  font-family: Arial, sans-serif;\n",
            "}\n",
            "\n",
            "header {\n",
            "  background-color: #333;\n",
            "  color: #fff;\n",
            "  padding: 20px;\n",
            "  text-align: center;\n",
            "}\n",
            "\n",
            "main {\n",
            "  margin-top: 20px;\n",
            "}\n",
            "\n",
            "section {\n",
            "  margin-bottom: 20px;\n",
            "}\n",
            "\n",
            "h2 {\n",
            "  font-size: 1.5rem;\n",
            "  margin-bottom: 10px;\n",
            "}\n",
            "\n",
            "ul {\n",
            "  list-style-type: none;\n",
            "  padding: 0;\n",
            "}\n",
            "\n",
            "li {\n",
            "  margin-bottom: 5px;\n",
            "}\n",
            "\n",
            "#ai-interaction {\n",
            "  background-color: #eee;\n",
            "  padding: 20px;\n",
            "}\n",
            "\n",
            "#ai-interaction-button {\n",
            "  background-color: #333;\n",
            "  color: #fff;\n",
            "  padding: 10px 20px;\n",
            "  border: none;\n",
            "  border-radius: 5px;\n",
            "  cursor: pointer;\n",
            "}\n",
            "```\n",
            "\n",
            "**script.js**\n",
            "\n",
            "```javascript\n",
            "const aiInteractionButton = document.getElementById(\"ai-interaction-button\");\n",
            "\n",
            "aiInteractionButton.addEventListener(\"click\", () => {\n",
            "  // Inicie a interação com a IA aqui\n",
            "  // Por exemplo, você pode exibir um chatbot ou um formulário de entrada de texto\n",
            "});\n",
            "```\n"
          ]
        }
      ]
    },
    {
      "cell_type": "code",
      "source": [
        "perfil = '''Como acrencentar um link em HTML.'''\n",
        "\n",
        "response = model.generate_content(perfil)\n",
        "print(response.text)"
      ],
      "metadata": {
        "colab": {
          "base_uri": "https://localhost:8080/",
          "height": 593
        },
        "collapsed": true,
        "id": "hO06u-iJvD0A",
        "outputId": "d163c763-2a49-4a34-b766-dfe23c13a9ab"
      },
      "execution_count": 104,
      "outputs": [
        {
          "output_type": "stream",
          "name": "stdout",
          "text": [
            "Para adicionar um link em HTML, use a tag `<a>`:\n",
            "\n",
            "```html\n",
            "<a href=\"URL_DO_LINK\">Texto do link</a>\n",
            "```\n",
            "\n",
            "Onde:\n",
            "\n",
            "* **href:** O endereço do link.\n",
            "* **Texto do link:** O texto que será exibido e clicável no link.\n",
            "\n",
            "**Exemplo:**\n",
            "\n",
            "Para criar um link para o site do Google:\n",
            "\n",
            "```html\n",
            "<a href=\"https://www.google.com\">Google</a>\n",
            "```\n",
            "\n",
            "**Atributos adicionais:**\n",
            "\n",
            "Você também pode adicionar atributos adicionais à tag `<a>` para personalizar o link:\n",
            "\n",
            "* **target:** Define o destino do link (por exemplo, `_blank` para abrir em uma nova guia).\n",
            "* **title:** Adiciona um texto de dica de ferramenta ao passar o mouse sobre o link.\n",
            "* **rel:** Define o relacionamento entre o link e a página atual (por exemplo, `nofollow` para indicar que o link não deve ser seguido por mecanismos de pesquisa).\n",
            "\n",
            "**Exemplo com atributos:**\n",
            "\n",
            "```html\n",
            "<a href=\"https://www.google.com\" target=\"_blank\" title=\"Site do Google\">Google</a>\n",
            "```\n"
          ]
        }
      ]
    },
    {
      "cell_type": "code",
      "source": [
        "perfil = '''Crie o código HTML, CSS e JavaScript para criação de um botão, quando clicado, abre um popup com uma frase, uma caixa de texto e um botão de enter.\n",
        "o botão de enter aciona um código python no colab que usa o texto inserido na caixa de texto, e responde com novo texto que aparece no pop-up.\n",
        "deve haver uma função para fechar o pop-up\n",
        "Crie os códigos em arquivos separados.'''\n",
        "\n",
        "response = model.generate_content(perfil)\n",
        "print(response.text)"
      ],
      "metadata": {
        "colab": {
          "base_uri": "https://localhost:8080/",
          "height": 1000
        },
        "collapsed": true,
        "id": "2m41PZ1wwAKd",
        "outputId": "59d3c3a3-1249-4ded-ed16-1b0c2b451693"
      },
      "execution_count": 105,
      "outputs": [
        {
          "output_type": "stream",
          "name": "stdout",
          "text": [
            "**index.html**\n",
            "\n",
            "```html\n",
            "<!DOCTYPE html>\n",
            "<html>\n",
            "<head>\n",
            "  <title>Popup com Entrada de Texto</title>\n",
            "  <link rel=\"stylesheet\" href=\"style.css\">\n",
            "</head>\n",
            "<body>\n",
            "  <button id=\"open-popup-button\">Abrir Popup</button>\n",
            "\n",
            "  <div id=\"popup\" class=\"hidden\">\n",
            "    <p>Digite algo:</p>\n",
            "    <input type=\"text\" id=\"input-text\">\n",
            "    <button id=\"submit-button\">Enviar</button>\n",
            "  </div>\n",
            "\n",
            "  <script src=\"script.js\"></script>\n",
            "</body>\n",
            "</html>\n",
            "```\n",
            "\n",
            "**style.css**\n",
            "\n",
            "```css\n",
            "#popup {\n",
            "  position: fixed;\n",
            "  top: 50%;\n",
            "  left: 50%;\n",
            "  transform: translate(-50%, -50%);\n",
            "  padding: 20px;\n",
            "  background-color: #fff;\n",
            "  border: 1px solid #000;\n",
            "  display: flex;\n",
            "  flex-direction: column;\n",
            "  gap: 10px;\n",
            "  z-index: 999;\n",
            "}\n",
            "\n",
            "#popup.hidden {\n",
            "  display: none;\n",
            "}\n",
            "\n",
            "#input-text {\n",
            "  width: 100%;\n",
            "  padding: 5px;\n",
            "  border: 1px solid #000;\n",
            "}\n",
            "\n",
            "#submit-button {\n",
            "  padding: 5px 10px;\n",
            "  background-color: #000;\n",
            "  color: #fff;\n",
            "  border: none;\n",
            "  cursor: pointer;\n",
            "}\n",
            "```\n",
            "\n",
            "**script.js**\n",
            "\n",
            "```javascript\n",
            "const openPopupButton = document.getElementById(\"open-popup-button\");\n",
            "const popup = document.getElementById(\"popup\");\n",
            "const inputText = document.getElementById(\"input-text\");\n",
            "const submitButton = document.getElementById(\"submit-button\");\n",
            "\n",
            "const openPopup = () => {\n",
            "  popup.classList.remove(\"hidden\");\n",
            "};\n",
            "\n",
            "const closePopup = () => {\n",
            "  popup.classList.add(\"hidden\");\n",
            "};\n",
            "\n",
            "const submitForm = (e) => {\n",
            "  e.preventDefault();\n",
            "\n",
            "  // Aqui você pode chamar o código Python no Colab usando o valor de inputText.value\n",
            "  // e exibir a resposta no popup\n",
            "\n",
            "  // Por exemplo:\n",
            "  const response = \"Resposta do Colab: \" + inputText.value;\n",
            "  alert(response);\n",
            "};\n",
            "\n",
            "openPopupButton.addEventListener(\"click\", openPopup);\n",
            "submitButton.addEventListener(\"click\", submitForm);\n",
            "```\n"
          ]
        }
      ]
    },
    {
      "cell_type": "code",
      "source": [
        "perfil = '''Crie o código HTML, CSS e JavaScript para acionar um botão\n",
        "Crie os códigos em arquivos separados.'''\n",
        "\n",
        "response = model.generate_content(perfil)\n",
        "print(response.text)"
      ],
      "metadata": {
        "colab": {
          "base_uri": "https://localhost:8080/",
          "height": 694
        },
        "collapsed": true,
        "id": "IXy4iVLq1wMC",
        "outputId": "335c107d-ba02-4374-f404-f40c5dbf56c5"
      },
      "execution_count": 106,
      "outputs": [
        {
          "output_type": "stream",
          "name": "stdout",
          "text": [
            "**HTML (index.html)**\n",
            "\n",
            "```html\n",
            "<!DOCTYPE html>\n",
            "<html>\n",
            "<head>\n",
            "  <title>Botão</title>\n",
            "  <link rel=\"stylesheet\" href=\"style.css\">\n",
            "</head>\n",
            "<body>\n",
            "  <button id=\"meu-botao\">Clique em mim</button>\n",
            "\n",
            "  <script src=\"script.js\"></script>\n",
            "</body>\n",
            "</html>\n",
            "```\n",
            "\n",
            "**CSS (style.css)**\n",
            "\n",
            "```css\n",
            "#meu-botao {\n",
            "  background-color: #007bff;\n",
            "  color: #fff;\n",
            "  padding: 10px 20px;\n",
            "  border: none;\n",
            "  border-radius: 5px;\n",
            "  cursor: pointer;\n",
            "}\n",
            "```\n",
            "\n",
            "**JavaScript (script.js)**\n",
            "\n",
            "```javascript\n",
            "const botao = document.getElementById(\"meu-botao\");\n",
            "\n",
            "botao.addEventListener(\"click\", () => {\n",
            "  alert(\"Você clicou no botão!\");\n",
            "});\n",
            "```\n"
          ]
        }
      ]
    },
    {
      "cell_type": "markdown",
      "source": [
        "##  extrair o conteudo do link"
      ],
      "metadata": {
        "id": "o5E7M5UuO32n"
      }
    },
    {
      "cell_type": "code",
      "source": [
        "#link = input('coloque o link')\n",
        "link = 'https://g1.globo.com/pe/pernambuco/o-que-fazer-no-recife/noticia/2024/05/07/shows-de-fafa-de-belem-diogo-nogueira-chico-cesar-e-zeca-baleiro-festival-da-seresta-e-mais-confira-agenda-cultural.ghtml'\n",
        "#link = 'https://cruzeiro.com.br/noticias/parceira-de-longa-data-vilma-alimentos-volta-a-ser-patrocinadora-do-cruzeiro'\n",
        "#link = 'https://books.google.com.br/books?id=BH9P54bQdFwC&pg=PP1&lpg=PP1&dq=a&source=bl&ots=ltIIrIiv_K&sig=ACfU3U0jHwNXRHznMW7ehThvZ7KCHtOiIg&hl=pt-BR&sa=X&ved=2ahUKEwjZxIq5z4SGAxXTmZUCHQ0EB7s4HhDoAXoECAQQAw'\n",
        "\n",
        "site = requests.get(link)\n",
        "\n",
        "# Verifica se a solicitação foi bem-sucedida\n",
        "if site.status_code == 200:\n",
        "    # Obtém o código HTML da resposta\n",
        "    html = site.text\n",
        "else:\n",
        "    print(\"Link não reconhecido\")"
      ],
      "metadata": {
        "id": "1B60Xx75JgsO"
      },
      "execution_count": 101,
      "outputs": []
    },
    {
      "cell_type": "code",
      "source": [
        "sopa = BeautifulSoup(html, 'html.parser')\n",
        "\n",
        "#achar o titulo\n",
        "titulo = sopa.title.string\n",
        "\n",
        "#lista com os paragrafos\n",
        "p_tags = sopa.find_all('p')"
      ],
      "metadata": {
        "colab": {
          "base_uri": "https://localhost:8080/"
        },
        "id": "DScCBzv5ZEK7",
        "outputId": "b602e10a-ef33-4c2a-ac5a-570a0b902cf3"
      },
      "execution_count": 95,
      "outputs": [
        {
          "output_type": "stream",
          "name": "stdout",
          "text": [
            "A ciência da informação criadora do conhecimento Vol. I - Maria Manuel Borges, Elias Sanz Casado - Google Livros\n"
          ]
        }
      ]
    },
    {
      "cell_type": "code",
      "source": [
        "#imagem não serão analisadas"
      ],
      "metadata": {
        "id": "XYREsz8mI-rW"
      },
      "execution_count": null,
      "outputs": []
    },
    {
      "cell_type": "markdown",
      "source": [
        "## fazer o Gemini resumir o conteudo"
      ],
      "metadata": {
        "id": "9biOEBPDR_J4"
      }
    },
    {
      "cell_type": "code",
      "source": [
        "#primeira tentativa\n",
        "\n",
        "#verifcar se preciso indiar partes do hmtl para o gemini - prompt genérico de resumo\n",
        "promtp_0 = 'Resuma em até 200 palavras sobre o que se trata o conteúdo deste html '\n",
        "response = model.generate_content(promtp_0)\n",
        "\n",
        "#ocorreu um erro - descontrui o html"
      ],
      "metadata": {
        "colab": {
          "base_uri": "https://localhost:8080/",
          "height": 35
        },
        "id": "HHnQzMWYf5TO",
        "outputId": "2a4308bf-bc10-4027-a54a-4ae5a297fbf3"
      },
      "execution_count": 48,
      "outputs": [
        {
          "output_type": "execute_result",
          "data": {
            "text/plain": [
              "'Resuma em até 200 palavras sobre o que se trata o conteúdo deste html '"
            ],
            "application/vnd.google.colaboratory.intrinsic+json": {
              "type": "string"
            }
          },
          "metadata": {},
          "execution_count": 48
        }
      ]
    },
    {
      "cell_type": "code",
      "source": [
        "#prompt_1 = f'Resuma o conteundo principal {p_tags}'\n",
        "prompt_1 = f'Resuma essa lista de textos {titulo} {p_tags}'\n",
        "detalhe = model.generate_content(prompt_1)\n",
        "\n",
        "prompt_2 = f'Explique do que se trata {detalhe.text} em 200 caracteres'\n",
        "resumo = model.generate_content(prompt_2)"
      ],
      "metadata": {
        "id": "YtSE3_yVJgkq"
      },
      "execution_count": 96,
      "outputs": []
    },
    {
      "cell_type": "code",
      "source": [
        "print(resumo.text)"
      ],
      "metadata": {
        "colab": {
          "base_uri": "https://localhost:8080/"
        },
        "id": "vKKv3imTk7KV",
        "outputId": "d942e0f1-9770-4f02-a9a9-8df35cc22230"
      },
      "execution_count": 97,
      "outputs": [
        {
          "output_type": "stream",
          "name": "stdout",
          "text": [
            "\"A Ciência da Informação Criadora do Conhecimento\" explora o papel da ciência da informação na criação de conhecimento, examinando a evolução da disciplina, a natureza da informação, processos de criação de conhecimento, tecnologias de informação e implicações éticas e sociais.\n"
          ]
        }
      ]
    },
    {
      "cell_type": "code",
      "source": [
        "print(detalhe.text)"
      ],
      "metadata": {
        "colab": {
          "base_uri": "https://localhost:8080/"
        },
        "id": "6LcC6helknN8",
        "outputId": "d3ee33a9-55e4-4012-f166-2b6fbf79bb8d"
      },
      "execution_count": 98,
      "outputs": [
        {
          "output_type": "stream",
          "name": "stdout",
          "text": [
            "O livro \"A Ciência da Informação Criadora do Conhecimento\" explora o papel da ciência da informação na criação de conhecimento. Ele aborda tópicos como:\n",
            "\n",
            "* A evolução da ciência da informação e sua relação com outras disciplinas\n",
            "* A natureza da informação e seu papel na sociedade\n",
            "* Processos de criação de conhecimento e o papel da informação\n",
            "* Tecnologias de informação e comunicação e seu impacto na criação de conhecimento\n",
            "* Implicações éticas e sociais da criação de conhecimento\n"
          ]
        }
      ]
    },
    {
      "cell_type": "markdown",
      "source": [
        "# ideias"
      ],
      "metadata": {
        "id": "jL-H0kgyOW6a"
      }
    },
    {
      "cell_type": "code",
      "source": [],
      "metadata": {
        "id": "u3BdPV8lkfVj"
      },
      "execution_count": null,
      "outputs": []
    },
    {
      "cell_type": "markdown",
      "source": [
        "Ideia para o projeto da imersão de IA da Alura:\n",
        "ter um resumo sobre um link.\n",
        "\n",
        "você dá o link e o gemini responde sobre o que é pagina: categoria, descrição sobre o que se trata.\n",
        "\n",
        "Numa url tem um botão 'SOBRE O QUE É ESSE LINK' ou algo parecido\n",
        "ao clicar nele, aparece uma caixa de texto para inserir o link e um botão de consulte. -> isso pode já está em tela: a caixa de texto e o botão de consulte.\n",
        "ao enviar ativa uma função que coloca o que tem escrito no site em um texto -\n",
        "biblioteca request e dá esse texto junta as instruções para o api do gemini fazer o resumo, segundo exemplos criados atraves de teste de refinamento desse prompt.\n",
        "antes de chamar o api, há um verificação se o link é valido: se erro, aparece um pop-up 'link invalido'. se correto, aparece uma caixa de texto com a resposta da api\n",
        "\n",
        "A url estará deploy no site do perfil do github, os código necessário para criação em html e ccs, js ou em python serão pedidos ao gemini e costumizado a meu critério"
      ],
      "metadata": {
        "id": "NOv99I57CEQn"
      }
    },
    {
      "cell_type": "markdown",
      "source": [
        "avise se o link contem algum conteúdo de segurança"
      ],
      "metadata": {
        "id": "QaigQcrCI_qF"
      }
    }
  ]
}